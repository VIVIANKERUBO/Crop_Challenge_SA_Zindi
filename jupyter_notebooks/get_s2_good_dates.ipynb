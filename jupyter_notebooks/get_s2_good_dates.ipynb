{
 "cells": [
  {
   "cell_type": "markdown",
   "metadata": {},
   "source": [
    "# save per tile, good optical (s2) observations"
   ]
  },
  {
   "cell_type": "code",
   "execution_count": 17,
   "metadata": {},
   "outputs": [],
   "source": [
    "import os\n",
    "import numpy as np\n",
    "from matplotlib import pyplot as plt\n",
    "import glob\n",
    "from skimage import io\n",
    "\n",
    "def get_good_observations(input_dir, total_tiles, mode, return_images=2):\n",
    "    '''\n",
    "    this function returns n cloud free images per month/per tile\n",
    "    '''\n",
    "    \n",
    "    # dict to hold good dates per file\n",
    "    tile_dates = {k:[] for k in range(1, total_tiles+1)}\n",
    "\n",
    "    for tile_id in range(1, total_tiles + 1):\n",
    "        \n",
    "        if tile_id % 100 == 0:\n",
    "            print(tile_id)\n",
    "\n",
    "        sub_folders = glob.glob(input_dir + '/' +'ref_south_africa_crops_competition_v1_' + mode+ '_source_s2_' + str(tile_id).zfill(4) + '*' )\n",
    "        dates = []\n",
    "        std = []\n",
    "\n",
    "        # iterate tile folders and return std per date\n",
    "        for item in sub_folders:\n",
    "            \n",
    "            # record date\n",
    "            dates.append(item[-10:])\n",
    "\n",
    "            #read band blue and append std\n",
    "            blue = io.imread(item+ '/' + 'B02.tif')\n",
    "            std.append(np.std(blue))\n",
    "\n",
    "        zip_iterator = zip(dates, std)\n",
    "        cloud_score = dict(zip_iterator) \n",
    "\n",
    "        months = ['2017_04', '2017_05', '2017_06', '2017_07', '2017_08', '2017_09', '2017_10', '2017_11']\n",
    "\n",
    "        for month in months:\n",
    "            filtered_dict = {k:v for (k,v) in cloud_score.items() if month in k}\n",
    "            filtered_dict = dict(sorted(filtered_dict.items(), key=lambda item: item[1]))\n",
    "            filtered_list = list(filtered_dict.keys())[:return_images]\n",
    "            filtered_list.sort()\n",
    "            tile_dates[tile_id].extend(filtered_list)\n",
    "\n",
    "    return tile_dates"
   ]
  },
  {
   "cell_type": "code",
   "execution_count": 18,
   "metadata": {},
   "outputs": [
    {
     "name": "stdout",
     "output_type": "stream",
     "text": [
      "100\n",
      "200\n",
      "300\n",
      "400\n",
      "500\n",
      "600\n",
      "700\n",
      "800\n",
      "900\n",
      "1000\n",
      "1100\n",
      "1200\n",
      "1300\n",
      "1400\n",
      "1500\n",
      "1600\n",
      "1700\n",
      "1800\n",
      "1900\n",
      "2000\n",
      "2100\n",
      "2200\n",
      "2300\n",
      "2400\n",
      "2500\n",
      "2600\n",
      "complete in  1:31:53.958580\n"
     ]
    }
   ],
   "source": [
    "from datetime import datetime\n",
    "start = datetime.now()\n",
    "input_dir = '/share/projects/erasmus2/crop_zindi/data/ref_south_africa_crops_competition_v1_train_source_s2'\n",
    "s2_train_tile_dates = get_good_observations(input_dir, total_tiles=2650, mode='train')\n",
    "\n",
    "print('complete in ', datetime.now() - start)"
   ]
  },
  {
   "cell_type": "code",
   "execution_count": 20,
   "metadata": {},
   "outputs": [
    {
     "data": {
      "text/plain": [
       "[(1,\n",
       "  ['2017_04_14',\n",
       "   '2017_04_24',\n",
       "   '2017_05_04',\n",
       "   '2017_05_24',\n",
       "   '2017_06_03',\n",
       "   '2017_06_23',\n",
       "   '2017_07_08',\n",
       "   '2017_07_18',\n",
       "   '2017_08_07',\n",
       "   '2017_08_12',\n",
       "   '2017_09_01',\n",
       "   '2017_09_21',\n",
       "   '2017_10_03',\n",
       "   '2017_10_31',\n",
       "   '2017_11_10',\n",
       "   '2017_11_15']),\n",
       " (2,\n",
       "  ['2017_04_11',\n",
       "   '2017_04_14',\n",
       "   '2017_05_24',\n",
       "   '2017_05_31',\n",
       "   '2017_06_13',\n",
       "   '2017_06_30',\n",
       "   '2017_07_08',\n",
       "   '2017_07_28',\n",
       "   '2017_08_09',\n",
       "   '2017_08_14',\n",
       "   '2017_09_01',\n",
       "   '2017_09_26',\n",
       "   '2017_10_01',\n",
       "   '2017_10_11',\n",
       "   '2017_11_02',\n",
       "   '2017_11_05']),\n",
       " (3,\n",
       "  ['2017_04_11',\n",
       "   '2017_04_14',\n",
       "   '2017_05_04',\n",
       "   '2017_05_21',\n",
       "   '2017_06_20',\n",
       "   '2017_06_23',\n",
       "   '2017_07_10',\n",
       "   '2017_07_18',\n",
       "   '2017_08_12',\n",
       "   '2017_08_17',\n",
       "   '2017_09_21',\n",
       "   '2017_09_28',\n",
       "   '2017_10_03',\n",
       "   '2017_10_23',\n",
       "   '2017_11_10',\n",
       "   '2017_11_20']),\n",
       " (4,\n",
       "  ['2017_04_11',\n",
       "   '2017_04_21',\n",
       "   '2017_05_21',\n",
       "   '2017_05_31',\n",
       "   '2017_06_10',\n",
       "   '2017_06_20',\n",
       "   '2017_07_05',\n",
       "   '2017_07_25',\n",
       "   '2017_08_09',\n",
       "   '2017_08_19',\n",
       "   '2017_09_18',\n",
       "   '2017_09_28',\n",
       "   '2017_10_13',\n",
       "   '2017_10_28',\n",
       "   '2017_11_02',\n",
       "   '2017_11_17']),\n",
       " (5,\n",
       "  ['2017_04_11',\n",
       "   '2017_04_21',\n",
       "   '2017_05_01',\n",
       "   '2017_05_21',\n",
       "   '2017_06_20',\n",
       "   '2017_06_30',\n",
       "   '2017_07_05',\n",
       "   '2017_07_10',\n",
       "   '2017_08_09',\n",
       "   '2017_08_14',\n",
       "   '2017_09_18',\n",
       "   '2017_09_28',\n",
       "   '2017_10_13',\n",
       "   '2017_10_18',\n",
       "   '2017_11_07',\n",
       "   '2017_11_17']),\n",
       " (6,\n",
       "  ['2017_04_11',\n",
       "   '2017_04_21',\n",
       "   '2017_05_21',\n",
       "   '2017_05_31',\n",
       "   '2017_06_20',\n",
       "   '2017_06_30',\n",
       "   '2017_07_05',\n",
       "   '2017_07_30',\n",
       "   '2017_08_04',\n",
       "   '2017_08_14',\n",
       "   '2017_09_08',\n",
       "   '2017_09_28',\n",
       "   '2017_10_13',\n",
       "   '2017_10_28',\n",
       "   '2017_11_07',\n",
       "   '2017_11_17']),\n",
       " (7,\n",
       "  ['2017_04_01',\n",
       "   '2017_04_21',\n",
       "   '2017_05_21',\n",
       "   '2017_05_31',\n",
       "   '2017_06_20',\n",
       "   '2017_06_30',\n",
       "   '2017_07_05',\n",
       "   '2017_07_10',\n",
       "   '2017_08_04',\n",
       "   '2017_08_14',\n",
       "   '2017_09_18',\n",
       "   '2017_09_28',\n",
       "   '2017_10_03',\n",
       "   '2017_10_13',\n",
       "   '2017_11_07',\n",
       "   '2017_11_27']),\n",
       " (8,\n",
       "  ['2017_04_01',\n",
       "   '2017_04_11',\n",
       "   '2017_05_11',\n",
       "   '2017_05_21',\n",
       "   '2017_06_10',\n",
       "   '2017_06_30',\n",
       "   '2017_07_10',\n",
       "   '2017_07_30',\n",
       "   '2017_08_09',\n",
       "   '2017_08_14',\n",
       "   '2017_09_18',\n",
       "   '2017_09_23',\n",
       "   '2017_10_18',\n",
       "   '2017_10_23',\n",
       "   '2017_11_02',\n",
       "   '2017_11_12']),\n",
       " (9,\n",
       "  ['2017_04_11',\n",
       "   '2017_04_14',\n",
       "   '2017_05_04',\n",
       "   '2017_05_24',\n",
       "   '2017_06_10',\n",
       "   '2017_06_23',\n",
       "   '2017_07_10',\n",
       "   '2017_07_18',\n",
       "   '2017_08_12',\n",
       "   '2017_08_17',\n",
       "   '2017_09_01',\n",
       "   '2017_09_23',\n",
       "   '2017_10_23',\n",
       "   '2017_10_31',\n",
       "   '2017_11_10',\n",
       "   '2017_11_15']),\n",
       " (10,\n",
       "  ['2017_04_11',\n",
       "   '2017_04_21',\n",
       "   '2017_05_21',\n",
       "   '2017_05_31',\n",
       "   '2017_06_20',\n",
       "   '2017_06_30',\n",
       "   '2017_07_05',\n",
       "   '2017_07_10',\n",
       "   '2017_08_04',\n",
       "   '2017_08_14',\n",
       "   '2017_09_18',\n",
       "   '2017_09_23',\n",
       "   '2017_10_18',\n",
       "   '2017_10_28',\n",
       "   '2017_11_02',\n",
       "   '2017_11_22'])]"
      ]
     },
     "execution_count": 20,
     "metadata": {},
     "output_type": "execute_result"
    }
   ],
   "source": [
    "list(s2_train_tile_dates.items())[:10]"
   ]
  },
  {
   "cell_type": "code",
   "execution_count": 19,
   "metadata": {},
   "outputs": [],
   "source": [
    "# save\n",
    "import json\n",
    "with open('/share/projects/erasmus2/crop_zindi/data/pse_tsa_data/s2_train_dates.json', 'w') as file:\n",
    "    file.write(json.dumps(s2_train_tile_dates, indent=4))\n",
    "    \n"
   ]
  },
  {
   "cell_type": "markdown",
   "metadata": {},
   "source": [
    "# for test tiles"
   ]
  },
  {
   "cell_type": "code",
   "execution_count": 21,
   "metadata": {},
   "outputs": [
    {
     "name": "stdout",
     "output_type": "stream",
     "text": [
      "100\n",
      "200\n",
      "300\n",
      "400\n",
      "500\n",
      "600\n",
      "700\n",
      "800\n",
      "900\n",
      "1000\n",
      "1100\n",
      "complete in  0:26:39.478904\n"
     ]
    }
   ],
   "source": [
    "from datetime import datetime\n",
    "start = datetime.now()\n",
    "input_dir = '/share/projects/erasmus2/crop_zindi/data/ref_south_africa_crops_competition_v1_test_source_s2'\n",
    "s2_test_tile_dates = get_good_observations(input_dir, total_tiles=1137, mode='test')\n",
    "\n",
    "print('complete in ', datetime.now() - start)\n",
    "\n",
    "import json\n",
    "with open('/share/projects/erasmus2/crop_zindi/data/pse_tsa_data/s2_test_dates.json', 'w') as file:\n",
    "    file.write(json.dumps(s2_test_tile_dates, indent=4))\n",
    "    \n"
   ]
  },
  {
   "cell_type": "markdown",
   "metadata": {},
   "source": [
    "# save npy for s1 and s2\n",
    "\n"
   ]
  },
  {
   "cell_type": "code",
   "execution_count": 24,
   "metadata": {},
   "outputs": [
    {
     "data": {
      "text/plain": [
       "2650"
      ]
     },
     "execution_count": 24,
     "metadata": {},
     "output_type": "execute_result"
    }
   ],
   "source": [
    "# import json containing dates for train or test\n",
    "\n",
    "import json\n",
    "with open('/share/projects/erasmus2/crop_zindi/data/pse_tsa_data/s2_train_dates.json', 'r') as file:\n",
    "    s2_train_dates = json.load(file)\n",
    "   \n",
    "                  "
   ]
  },
  {
   "cell_type": "markdown",
   "metadata": {},
   "source": [
    "# load df, drop columns and convert to np array"
   ]
  },
  {
   "cell_type": "code",
   "execution_count": 49,
   "metadata": {},
   "outputs": [
    {
     "data": {
      "text/plain": [
       "(87114, 21)"
      ]
     },
     "execution_count": 49,
     "metadata": {},
     "output_type": "execute_result"
    }
   ],
   "source": [
    "#load save df\n",
    "import pandas as pd\n",
    "s2_df = pd.read_csv('/share/projects/erasmus2/crop_zindi/df/s1_df_avg.csv')\n",
    "\n",
    "s2_df = s2_df.drop(['Unnamed: 0', 'field_id'], axis=1)\n",
    "\n",
    "s2_df.head(10)\n",
    "\n",
    "s2_arr = s2_df.to_numpy()\n",
    "s2_arr.shape\n",
    "\n"
   ]
  },
  {
   "cell_type": "markdown",
   "metadata": {},
   "source": [
    "# create sits from x,y df"
   ]
  },
  {
   "cell_type": "code",
   "execution_count": 55,
   "metadata": {},
   "outputs": [
    {
     "name": "stdout",
     "output_type": "stream",
     "text": [
      "(87114, 1, 2)\n",
      "(87114, 2, 2)\n",
      "(87114, 3, 2)\n",
      "(87114, 4, 2)\n",
      "(87114, 5, 2)\n",
      "(87114, 6, 2)\n",
      "(87114, 7, 2)\n",
      "(87114, 8, 2)\n",
      "(87114, 9, 2)\n",
      "(87114, 10, 2)\n"
     ]
    }
   ],
   "source": [
    "# split df into multi\n",
    "# creates temporal dimension from high-dimensional multitemporal features\n",
    "\n",
    "count = 0\n",
    "for i in range(1, 11):\n",
    "    a = 0\n",
    "    b = 2\n",
    "    arr = np.expand_dims(s2_arr[:,a:b], 1)\n",
    "    \n",
    "    if count == 0:\n",
    "        sits = arr\n",
    "    else:\n",
    "        sits = np.concatenate((sits, arr), 1)\n",
    "    \n",
    "    count += 1\n",
    "    a+=2\n",
    "    b+=2\n",
    "        \n",
    "    "
   ]
  }
 ],
 "metadata": {
  "kernelspec": {
   "display_name": "Python 3",
   "language": "python",
   "name": "python3"
  },
  "language_info": {
   "codemirror_mode": {
    "name": "ipython",
    "version": 3
   },
   "file_extension": ".py",
   "mimetype": "text/x-python",
   "name": "python",
   "nbconvert_exporter": "python",
   "pygments_lexer": "ipython3",
   "version": "3.7.1"
  }
 },
 "nbformat": 4,
 "nbformat_minor": 2
}
